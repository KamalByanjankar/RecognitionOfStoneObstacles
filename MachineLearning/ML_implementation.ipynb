{
 "cells": [
  {
   "cell_type": "code",
   "execution_count": 1,
   "metadata": {},
   "outputs": [],
   "source": [
    "%reload_ext autoreload\n",
    "%autoreload 2\n",
    "\n",
    "import numpy as np\n",
    "from machineLearning_helper import load_features_data, normalize_train_X, normalize_test_X\n",
    "from sklearn.model_selection import train_test_split\n",
    "from sklearn.metrics import confusion_matrix\n",
    "from sklearn.metrics import accuracy_score, confusion_matrix\n",
    "import seaborn as sns\n",
    "import matplotlib.pyplot as plt "
   ]
  },
  {
   "cell_type": "code",
   "execution_count": null,
   "metadata": {},
   "outputs": [],
   "source": [
    "# loading feature data\n",
    "\n",
    "cobbleStone_data = load_features_data('../../features/featureData/cobbleStone.csv')\n",
    "curbStone_data = load_features_data('../../features/featureData/curbStone.csv')\n",
    "\n",
    "# print('Cobble Stone: ', cobbleStone_data.shape)\n",
    "# print('Curb Stone: ', curbStone_data.shape)"
   ]
  },
  {
   "cell_type": "code",
   "execution_count": null,
   "metadata": {},
   "outputs": [],
   "source": [
    "# selecting and labelling data \n",
    "\n",
    "cobbleStone = cobbleStone_data.loc[cobbleStone_data['Object'] == 'Cobble Stone'].iloc[:,5:]\n",
    "curbStone = curbStone_data.loc[curbStone_data['Object'] == 'Curb Stone'].iloc[:, 5:]\n",
    "\n",
    "cobbleStone_label = ['COBBLESTONE']*cobbleStone.shape[0]\n",
    "curbStone_label = ['CURBSTONE']*curbStone.shape[0]\n",
    "\n",
    "data = cobbleStone.values.tolist() + curbStone.values.tolist()\n",
    "label = cobbleStone_label + curbStone_label"
   ]
  },
  {
   "cell_type": "code",
   "execution_count": null,
   "metadata": {},
   "outputs": [],
   "source": [
    "#splitting data for training and testing\n",
    "\n",
    "train_X, test_X, train_y, test_y = train_test_split(data, label, test_size=0.33, random_state=42)\n",
    "# print('X train data:', np.array(train_X).shape)\n",
    "# print('X test data:', np.array(test_X).shape)\n",
    "# print('y train data:', np.array(train_y).shape)\n",
    "# print('y test data:', np.array(test_y).shape)"
   ]
  },
  {
   "cell_type": "code",
   "execution_count": null,
   "metadata": {},
   "outputs": [],
   "source": [
    "normalized_X = normalize_train_X(train_X)\n",
    "normalized_X_test = normalize_test_X(test_X)"
   ]
  },
  {
   "cell_type": "code",
   "execution_count": null,
   "metadata": {},
   "outputs": [],
   "source": []
  }
 ],
 "metadata": {
  "kernelspec": {
   "display_name": "Python 3",
   "language": "python",
   "name": "python3"
  },
  "language_info": {
   "codemirror_mode": {
    "name": "ipython",
    "version": 3
   },
   "file_extension": ".py",
   "mimetype": "text/x-python",
   "name": "python",
   "nbconvert_exporter": "python",
   "pygments_lexer": "ipython3",
   "version": "3.6.10"
  }
 },
 "nbformat": 4,
 "nbformat_minor": 4
}
