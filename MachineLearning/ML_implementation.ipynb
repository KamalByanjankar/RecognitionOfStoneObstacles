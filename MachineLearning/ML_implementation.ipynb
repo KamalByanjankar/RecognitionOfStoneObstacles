{
 "cells": [
  {
   "cell_type": "code",
   "execution_count": 1,
   "metadata": {},
   "outputs": [],
   "source": [
    "%reload_ext autoreload\n",
    "%autoreload 2\n",
    "\n",
    "import numpy as np\n",
    "from machineLearning_helper import load_features_data, normalize_train_X, normalize_test_X\n",
    "from sklearn.model_selection import train_test_split\n",
    "from sklearn.metrics import confusion_matrix\n",
    "from sklearn.metrics import accuracy_score, confusion_matrix\n",
    "import seaborn as sns\n",
    "import matplotlib.pyplot as plt \n",
    "from confusion_matrix import create_confusion_matrix"
   ]
  },
  {
   "cell_type": "code",
   "execution_count": 2,
   "metadata": {},
   "outputs": [],
   "source": [
    "# loading feature data\n",
    "\n",
    "cobbleStone_data = load_features_data('../../features/cobbleStone.csv')\n",
    "curbStone_data = load_features_data('../../features/curbStone.csv')\n",
    "\n",
    "# print('Cobble Stone: ', cobbleStone_data.shape)\n",
    "# print('Curb Stone: ', curbStone_data.shape)"
   ]
  },
  {
   "cell_type": "code",
   "execution_count": 3,
   "metadata": {},
   "outputs": [
    {
     "name": "stdout",
     "output_type": "stream",
     "text": [
      "(49981, 42)\n",
      "(49981,)\n"
     ]
    }
   ],
   "source": [
    "# selecting and labelling data \n",
    "\n",
    "cobbleStone = cobbleStone_data.loc[cobbleStone_data['Object'] == 'Cobble Stone'].iloc[:,5:]\n",
    "curbStone = curbStone_data.loc[curbStone_data['Object'] == 'Curb Stone'].iloc[:, 5:]\n",
    "\n",
    "cobbleStone_label = ['COBBLESTONE']*cobbleStone.shape[0]\n",
    "curbStone_label = ['CURBSTONE']*curbStone.shape[0]\n",
    "\n",
    "data = cobbleStone.values.tolist() + curbStone.values.tolist()\n",
    "label = cobbleStone_label + curbStone_label\n",
    "print(np.shape(data))\n",
    "print(np.shape(label))"
   ]
  },
  {
   "cell_type": "code",
   "execution_count": 4,
   "metadata": {},
   "outputs": [],
   "source": [
    "#splitting data for training and testing\n",
    "\n",
    "train_X, test_X, train_y, test_y = train_test_split(data, label, test_size=0.33, random_state=42)\n",
    "# print('X train data:', np.array(train_X).shape)\n",
    "# print('X test data:', np.array(test_X).shape)\n",
    "# print('y train data:', np.array(train_y).shape)\n",
    "# print('y test data:', np.array(test_y).shape)"
   ]
  },
  {
   "cell_type": "code",
   "execution_count": 7,
   "metadata": {},
   "outputs": [],
   "source": [
    "normalized_X_train = normalize_train_X(train_X)\n",
    "normalized_X_test = normalize_test_X(test_X)"
   ]
  },
  {
   "cell_type": "code",
   "execution_count": null,
   "metadata": {},
   "outputs": [],
   "source": [
    "#Random forest classifier\n",
    "\n",
    "from sklearn.ensemble import RandomForestClassifier\n",
    "\n",
    "clf = RandomForestClassifier(n_estimators=100)\n",
    "clf.fit(normalized_X_train, train_y)\n",
    "result = clf.predict(normalized_X_test)\n",
    "\n",
    "cm = confusion_matrix(test_y, result)\n",
    "print(cm)\n",
    "print(\"Accuracy: \",accuracy_score(test_y, result))\n",
    "labels = ['COBBLESTONE', 'CURBSTONE']\n",
    "title = ('Random Forest Confusion Matrix')\n",
    "create_confusion_matrix(test_y, result, labels, title)"
   ]
  },
  {
   "cell_type": "code",
   "execution_count": null,
   "metadata": {},
   "outputs": [],
   "source": [
    "#KNN\n",
    "\n",
    "from sklearn.neighbors import KNeighborsClassifier\n",
    "\n",
    "clf = KNeighborsClassifier(n_neighbors=2)\n",
    "clf.fit(normalized_X_train, train_y)\n",
    "result = clf.predict(normalized_X_test)\n",
    "\n",
    "cm = confusion_matrix(test_y, result)\n",
    "print(cm)\n",
    "print(\"Accuracy: \",accuracy_score(test_y, result))\n",
    "labels = ['COBBLESTONE', 'CURBSTONE']\n",
    "title = ('KNN Confusion Matrix')\n",
    "create_confusion_matrix(test_y, result, labels, title)"
   ]
  },
  {
   "cell_type": "code",
   "execution_count": null,
   "metadata": {},
   "outputs": [],
   "source": [
    "#reshaping the features into 6x6 matrix for CNN\n",
    "train_X = np.array(normalized_X_train)[:,4:40].reshape(-1,6,6,1)\n",
    "test_X =  np.array(normalized_X_test)[:,4:40].reshape(-1,6,6,1)\n",
    "\n",
    "train_X.shape, test_X.shape"
   ]
  },
  {
   "cell_type": "code",
   "execution_count": null,
   "metadata": {},
   "outputs": [],
   "source": [
    "#converting training objects into classes\n",
    "classes = np.unique(train_y)\n",
    "nClasses = len(classes)\n",
    "# print('Total number of outputs : ', nClasses)\n",
    "# print('Output classes : ', classes)"
   ]
  },
  {
   "cell_type": "code",
   "execution_count": null,
   "metadata": {},
   "outputs": [],
   "source": [
    "train_X = train_X.astype('float32')\n",
    "test_X = test_X.astype('float32')\n",
    "\n",
    "train_X.shape, test_X.shape, train_y.shape, test_y.shape"
   ]
  },
  {
   "cell_type": "code",
   "execution_count": null,
   "metadata": {},
   "outputs": [],
   "source": [
    "from tensorflow.keras.utils import to_categorical\n",
    "\n",
    "# Change the labels from categorical to one-hot encoding\n",
    "train_Y_one_hot = keras.utils.to_categorical(train_y)\n",
    "test_Y_one_hot = keras.utils.to_categorical(test_y)\n",
    "\n",
    "# Display the change for category label using one-hot encoding\n",
    "print('Original label:', train_y[0])\n",
    "print('After conversion to one-hot:', train_Y_one_hot[0])\n",
    "\n",
    "print(train_Y_one_hot.shape)\n",
    "print(test_Y_one_hot.shape)"
   ]
  },
  {
   "cell_type": "code",
   "execution_count": null,
   "metadata": {},
   "outputs": [],
   "source": [
    "#splitting the training data set for CNN\n",
    "\n",
    "train_X,valid_X,train_label,valid_label = train_test_split(train_X, train_Y_one_hot, test_size=0.30, random_state=13)\n",
    "train_X.shape,valid_X.shape,train_label.shape,valid_label.shape"
   ]
  },
  {
   "cell_type": "code",
   "execution_count": null,
   "metadata": {},
   "outputs": [],
   "source": [
    "# hidden layers in CNN\n",
    "\n",
    "epochs = 20\n",
    "num_classes = 2\n",
    "batch_size= 100\n",
    "\n",
    "model = Sequential()\n",
    "\n",
    "model.add(Conv2D(64, kernel_size=(3, 3), padding='same', input_shape=(6,6,1)))\n",
    "model.add(Activation('relu'))\n",
    "model.add(MaxPooling2D(pool_size=(3, 3), padding='same'))\n",
    "\n",
    "model.add(Flatten())\n",
    "model.add(Dense(num_classes, Activation('softmax')))\n",
    "\n",
    "model.compile(optimizer='adam', loss='categorical_crossentropy', metrics=['accuracy'])"
   ]
  }
 ],
 "metadata": {
  "kernelspec": {
   "display_name": "Python 3",
   "language": "python",
   "name": "python3"
  },
  "language_info": {
   "codemirror_mode": {
    "name": "ipython",
    "version": 3
   },
   "file_extension": ".py",
   "mimetype": "text/x-python",
   "name": "python",
   "nbconvert_exporter": "python",
   "pygments_lexer": "ipython3",
   "version": "3.6.10"
  }
 },
 "nbformat": 4,
 "nbformat_minor": 4
}
