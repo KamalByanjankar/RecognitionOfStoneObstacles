{
 "cells": [
  {
   "cell_type": "code",
   "execution_count": 1,
   "metadata": {},
   "outputs": [],
   "source": [
    "import numpy as np\n",
    "import pandas as pd\n",
    "import matplotlib.pyplot as plt\n",
    "from numpy.fft import fft, fftfreq\n",
    "import glob"
   ]
  },
  {
   "cell_type": "code",
   "execution_count": 2,
   "metadata": {},
   "outputs": [],
   "source": [
    "def fft_from_data_frame(data_frame):\n",
    "    fs= 1.953e6\n",
    "    \n",
    "    signal_set = []\n",
    "    for row in data_frame.values:\n",
    "        fft_data = fft(row)/row.size\n",
    "        freq = fftfreq(row.size, d=1/fs)\n",
    "        cut_high_signal = np.abs(fft_data).copy()\n",
    "        cut_high_signal[(freq > 50000)] = 0\n",
    "        cut_high_signal[(freq < 30000)] = 0\n",
    "        signal_without_0 = list(filter(lambda a: a != 0, cut_high_signal))\n",
    "        signal_set.append(np.abs(signal_without_0))\n",
    "    return signal_set\n",
    "\n",
    "def get_dataframe_row(file_name, row_extra_information=['None', 'None', 'Unknown', 'Undefined']):\n",
    "    data = pd.read_csv(file_name, header=None)\n",
    "    data = data.iloc[:, 1:]\n",
    "    fft_data = fft_from_data_frame(data)\n",
    "    data_with_label = []\n",
    "    for object in fft_data:\n",
    "        object = object.tolist()\n",
    "        object = row_extra_information + object\n",
    "        data_with_label.append(object)\n",
    "    return data_with_label"
   ]
  },
  {
   "cell_type": "code",
   "execution_count": 8,
   "metadata": {},
   "outputs": [
    {
     "name": "stdout",
     "output_type": "stream",
     "text": [
      "./rawData/dataSet/10cm_70_170_rubberCurb/echoData/rubberCurbFront/80_overall.csv\n",
      "./rawData/dataSet/10cm_70_170_rubberCurb/echoData/rubberCurbFront/90_overall.csv\n",
      "./rawData/dataSet/10cm_70_170_rubberCurb/echoData/rubberCurbFront/100_overall.csv\n",
      "./rawData/dataSet/10cm_70_170_rubberCurb/echoData/rubberCurbFront/110_overall.csv\n",
      "./rawData/dataSet/10cm_70_170_rubberCurb/echoData/rubberCurbFront/120_overall.csv\n",
      "./rawData/dataSet/10cm_70_170_rubberCurb/echoData/rubberCurbFront/130_overall.csv\n",
      "./rawData/dataSet/10cm_70_170_rubberCurb/echoData/rubberCurbFront/140_overall.csv\n",
      "./rawData/dataSet/10cm_70_170_rubberCurb/echoData/rubberCurbFront/150_overall.csv\n",
      "./rawData/dataSet/10cm_70_170_rubberCurb/echoData/rubberCurbFront/160_overall.csv\n",
      "./rawData/dataSet/10cm_70_170_rubberCurb/echoData/rubberCurbFront/170_overall.csv\n",
      "FFT features saved.\n"
     ]
    }
   ],
   "source": [
    "data_frame_row_set = None\n",
    "\n",
    "# type = ['Object', 'Object Size', 'Object Position', 'Object Height', 'Distance']\n",
    "type = ['sample_frequency', 'distance', 'type', 'model']\n",
    "for i in range(1,43):\n",
    "    type.append(f'feature_{i}')\n",
    "    \n",
    "for i in range(80,180,10):\n",
    "    filename = f'./rawData/dataSet/10cm_70_170_rubberCurb/echoData/rubberCurbFront/{i}_overall.csv'\n",
    "    print(filename)\n",
    "    data_frame_row = get_dataframe_row(filename, ['1.953MHz', i, 'RUBBERCURB', 'rubberCurbFront'])\n",
    "#     print(data_frame_row)\n",
    "\n",
    "    if data_frame_row_set is not None:\n",
    "        data_frame_row_set = data_frame_row_set + data_frame_row\n",
    "    else:\n",
    "        data_frame_row_set = data_frame_row\n",
    "\n",
    "# features_df = pd.DataFrame(data_frame_row_set, columns=type)\n",
    "# features_df.to_csv('./rawData/dataSet/10cm_70_170_rubberCurb/features/rubberCurb/rubberCurbFront.csv')\n",
    "# print('FFT features saved.')"
   ]
  },
  {
   "cell_type": "code",
   "execution_count": null,
   "metadata": {},
   "outputs": [],
   "source": []
  },
  {
   "cell_type": "code",
   "execution_count": 9,
   "metadata": {},
   "outputs": [
    {
     "name": "stdout",
     "output_type": "stream",
     "text": [
      "./rawData/dataSet/10cm_70_170_rubberCurb/features/rubberCurb\\rubberCurb45degree.csv\n",
      "./rawData/dataSet/10cm_70_170_rubberCurb/features/rubberCurb\\rubberCurbFront.csv\n",
      "./rawData/dataSet/10cm_70_170_rubberCurb/features/rubberCurb\\rubberCurbSide.csv\n"
     ]
    }
   ],
   "source": [
    "path = r'./rawData/dataSet/10cm_70_170_rubberCurb/features/rubberCurb/'\n",
    "\n",
    "files = glob.glob(path + \"/*.csv\")\n",
    "\n",
    "li = []\n",
    "\n",
    "for filename in files:\n",
    "    print(filename)\n",
    "    df = pd.read_csv(filename, index_col=None, header=0)\n",
    "    df=df.iloc[:, 1:]\n",
    "    li.append(df)\n",
    "\n",
    "dataFrame = pd.concat(li, axis=0, ignore_index=True)\n",
    "# dataFrame.to_csv(\"./rawData/dataSet/10cm_70_170_rubberCurb/features/rubberCurb/rubberCurb.csv\", index=False, encoding='utf-8-sig')"
   ]
  },
  {
   "cell_type": "code",
   "execution_count": null,
   "metadata": {},
   "outputs": [],
   "source": []
  },
  {
   "cell_type": "code",
   "execution_count": null,
   "metadata": {},
   "outputs": [],
   "source": []
  },
  {
   "cell_type": "code",
   "execution_count": null,
   "metadata": {},
   "outputs": [],
   "source": []
  },
  {
   "cell_type": "code",
   "execution_count": null,
   "metadata": {},
   "outputs": [],
   "source": []
  },
  {
   "cell_type": "code",
   "execution_count": null,
   "metadata": {},
   "outputs": [],
   "source": []
  },
  {
   "cell_type": "code",
   "execution_count": null,
   "metadata": {},
   "outputs": [],
   "source": [
    "  \n",
    "from sklearn.ensemble import RandomForestClassifier\n",
    "\n",
    "clf = RandomForestClassifier(n_estimators=100)\n",
    "clf.fit(normalized_X_train, train_y)\n",
    "result = clf.predict(normalized_X_test)\n",
    "\n",
    "cm = confusion_matrix(test_y, result)\n",
    "print(cm)\n",
    "print(\"Accuracy: \",accuracy_score(test_y, result))\n",
    "# labels = ['COBBLESTONE', 'CURBSTONE']\n",
    "title = ('Random Forest Confusion Matrix')\n",
    "create_confusion_matrix(test_y, result)\n",
    "\n",
    "\n",
    "from sklearn.neighbors import KNeighborsClassifier\n",
    "\n",
    "clf = KNeighborsClassifier(n_neighbors=2)\n",
    "clf.fit(normalized_X_train, train_y)\n",
    "result = clf.predict(normalized_X_test)\n",
    "\n",
    "cm = confusion_matrix(test_y, result)\n",
    "print(cm)\n",
    "print(\"Accuracy: \",accuracy_score(test_y, result))\n",
    "labels = ['COBBLESTONE', 'CURBSTONE']\n",
    "title = ('KNN Confusion Matrix')\n",
    "create_confusion_matrix(test_y, result)\n",
    "\n"
   ]
  }
 ],
 "metadata": {
  "kernelspec": {
   "display_name": "Python 3 (ipykernel)",
   "language": "python",
   "name": "python3"
  },
  "language_info": {
   "codemirror_mode": {
    "name": "ipython",
    "version": 3
   },
   "file_extension": ".py",
   "mimetype": "text/x-python",
   "name": "python",
   "nbconvert_exporter": "python",
   "pygments_lexer": "ipython3",
   "version": "3.9.7"
  }
 },
 "nbformat": 4,
 "nbformat_minor": 4
}
