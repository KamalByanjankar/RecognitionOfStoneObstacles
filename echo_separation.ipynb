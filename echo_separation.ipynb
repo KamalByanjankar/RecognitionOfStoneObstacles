{
 "cells": [
  {
   "cell_type": "code",
   "execution_count": 12,
   "metadata": {},
   "outputs": [],
   "source": [
    "%reload_ext autoreload\n",
    "%autoreload 2\n",
    "\n",
    "import numpy as np\n",
    "import pandas as pd\n",
    "from file_helper import load_data_points, get_time_domain_data_without_offset, check_NaN_in_dataFrame\n",
    "from filter import apply_filter\n",
    "from echo_finder import get_echos\n",
    "\n",
    "def save_to_csv(echo_set, folder, distance):\n",
    "    data = pd.DataFrame(echo_set)\n",
    "    # data.to_csv(r'E:\\data\\10cm\\echoData/{}/{}_overall.csv'.format(folder, distance), header=False, index=False)\n",
    "    data.to_csv('./rawData/dataSet/10cm_70_170_rubberCurb/echoData/{}/{}_overall.csv'.format(folder, distance), header=False, index=False)"
   ]
  },
  {
   "cell_type": "code",
   "execution_count": 15,
   "metadata": {},
   "outputs": [
    {
     "name": "stdout",
     "output_type": "stream",
     "text": [
      "./rawData/dataSet/10cm_70_170_rubberCurb/rubberCurb45degree/1/130.csv\n"
     ]
    },
    {
     "name": "stderr",
     "output_type": "stream",
     "text": [
      "C:\\Users\\kamal\\AppData\\Local\\Temp\\ipykernel_16556\\2400832139.py:20: VisibleDeprecationWarning: Creating an ndarray from ragged nested sequences (which is a list-or-tuple of lists-or-tuples-or ndarrays with different lengths or shapes) is deprecated. If you meant to do this, you must specify 'dtype=object' when creating the ndarray.\n",
      "  print(np.array(echo_set).shape, main_folder_name, distance)\n"
     ]
    },
    {
     "name": "stdout",
     "output_type": "stream",
     "text": [
      "(224,) rubberCurb45degree 130\n",
      "./rawData/dataSet/10cm_70_170_rubberCurb/rubberCurb45degree/1/140.csv\n"
     ]
    },
    {
     "name": "stderr",
     "output_type": "stream",
     "text": [
      "C:\\Users\\kamal\\AppData\\Local\\Temp\\ipykernel_16556\\2400832139.py:20: VisibleDeprecationWarning: Creating an ndarray from ragged nested sequences (which is a list-or-tuple of lists-or-tuples-or ndarrays with different lengths or shapes) is deprecated. If you meant to do this, you must specify 'dtype=object' when creating the ndarray.\n",
      "  print(np.array(echo_set).shape, main_folder_name, distance)\n"
     ]
    },
    {
     "name": "stdout",
     "output_type": "stream",
     "text": [
      "(241,) rubberCurb45degree 140\n",
      "./rawData/dataSet/10cm_70_170_rubberCurb/rubberCurb45degree/1/150.csv\n"
     ]
    },
    {
     "name": "stderr",
     "output_type": "stream",
     "text": [
      "C:\\Users\\kamal\\AppData\\Local\\Temp\\ipykernel_16556\\2400832139.py:20: VisibleDeprecationWarning: Creating an ndarray from ragged nested sequences (which is a list-or-tuple of lists-or-tuples-or ndarrays with different lengths or shapes) is deprecated. If you meant to do this, you must specify 'dtype=object' when creating the ndarray.\n",
      "  print(np.array(echo_set).shape, main_folder_name, distance)\n"
     ]
    },
    {
     "name": "stdout",
     "output_type": "stream",
     "text": [
      "(225,) rubberCurb45degree 150\n",
      "./rawData/dataSet/10cm_70_170_rubberCurb/rubberCurb45degree/1/160.csv\n"
     ]
    },
    {
     "name": "stderr",
     "output_type": "stream",
     "text": [
      "C:\\Users\\kamal\\AppData\\Local\\Temp\\ipykernel_16556\\2400832139.py:20: VisibleDeprecationWarning: Creating an ndarray from ragged nested sequences (which is a list-or-tuple of lists-or-tuples-or ndarrays with different lengths or shapes) is deprecated. If you meant to do this, you must specify 'dtype=object' when creating the ndarray.\n",
      "  print(np.array(echo_set).shape, main_folder_name, distance)\n"
     ]
    },
    {
     "name": "stdout",
     "output_type": "stream",
     "text": [
      "(244,) rubberCurb45degree 160\n",
      "./rawData/dataSet/10cm_70_170_rubberCurb/rubberCurb45degree/1/170.csv\n",
      "(148,) rubberCurb45degree 170\n"
     ]
    },
    {
     "name": "stderr",
     "output_type": "stream",
     "text": [
      "C:\\Users\\kamal\\AppData\\Local\\Temp\\ipykernel_16556\\2400832139.py:20: VisibleDeprecationWarning: Creating an ndarray from ragged nested sequences (which is a list-or-tuple of lists-or-tuples-or ndarrays with different lengths or shapes) is deprecated. If you meant to do this, you must specify 'dtype=object' when creating the ndarray.\n",
      "  print(np.array(echo_set).shape, main_folder_name, distance)\n"
     ]
    }
   ],
   "source": [
    "# distance_set = [70,75,80,85,90,95,100,105,110,115,120,125,130,135,140,145,150,155,160,165,170,175,180,185,190,195,200]\n",
    "distance_set = [130,140,150,160,170]\n",
    "folder_set = ['rubberCurb45degree']\n",
    "file_set = [1]\n",
    "\n",
    "for i, folder_name in enumerate(folder_set):\n",
    "    main_folder_name = folder_set[i]\n",
    "    \n",
    "    for distance in distance_set:\n",
    "        echo_set = []\n",
    "        for file_number in file_set:\n",
    "            filename= './rawData/dataSet/10cm_70_170_rubberCurb/{}/{}/{}.csv'.format(main_folder_name, file_number, distance)\n",
    "            print(filename)\n",
    "            time_domain_data_frame = load_data_points(filename)\n",
    "            required_time_domain_data_frame = check_NaN_in_dataFrame(time_domain_data_frame)\n",
    "            data_without_offset = get_time_domain_data_without_offset(required_time_domain_data_frame)\n",
    "            data_frame_after_applying_filter = apply_filter(data_without_offset)\n",
    "            required_echos =  get_echos(data_frame_after_applying_filter)\n",
    "            echo_set = echo_set + required_echos\n",
    "            print(np.array(echo_set).shape, main_folder_name, distance)\n",
    "            # save_to_csv(echo_set, main_folder_name, distance)"
   ]
  },
  {
   "cell_type": "code",
   "execution_count": null,
   "metadata": {},
   "outputs": [],
   "source": []
  }
 ],
 "metadata": {
  "kernelspec": {
   "display_name": "Python 3 (ipykernel)",
   "language": "python",
   "name": "python3"
  },
  "language_info": {
   "codemirror_mode": {
    "name": "ipython",
    "version": 3
   },
   "file_extension": ".py",
   "mimetype": "text/x-python",
   "name": "python",
   "nbconvert_exporter": "python",
   "pygments_lexer": "ipython3",
   "version": "3.9.7"
  }
 },
 "nbformat": 4,
 "nbformat_minor": 4
}
