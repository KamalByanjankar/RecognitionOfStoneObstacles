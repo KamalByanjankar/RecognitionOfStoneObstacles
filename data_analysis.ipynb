{
 "cells": [
  {
   "cell_type": "code",
   "execution_count": 1,
   "metadata": {},
   "outputs": [],
   "source": [
    "%reload_ext autoreload\n",
    "%autoreload 2\n",
    "\n",
    "import numpy as np\n",
    "import pandas as pd\n",
    "from file_helper import load_data_points, check_NaN_in_dataFrame, get_time_domain_data_without_offset\n",
    "from plot_graph import plot_graphs\n",
    "from filter import apply_filter\n",
    "from echo_finder import get_echos\n",
    "from fft_implementation import fft_from_data_frame"
   ]
  },
  {
   "cell_type": "code",
   "execution_count": 2,
   "metadata": {},
   "outputs": [
    {
     "name": "stdout",
     "output_type": "stream",
     "text": [
      "100\n",
      "../rawData/bigCobbleStoneVertical/2/100.csv (500, 16384)\n"
     ]
    }
   ],
   "source": [
    "#loading file and checking NaN error in the data frame\n",
    "\n",
    "distance_set = [100]\n",
    "folder_set = ['bigCobbleStoneVertical']\n",
    "sub_folder_set = [2]\n",
    "\n",
    "data_with_offset = []\n",
    "for i, folder_name in enumerate(folder_set):\n",
    "    folder = folder_set[i]\n",
    "    \n",
    "    for i, sub_folder_name in enumerate(sub_folder_set):\n",
    "        sub_folder = sub_folder_set[i]\n",
    "        \n",
    "        for distance in distance_set:\n",
    "            print(distance)\n",
    "            filename = '../rawData/{}/{}/{}.csv'.format(folder, sub_folder, distance)\n",
    "            time_domain_data_frame = load_data_points(filename)\n",
    "            required_time_domain_data_frame = check_NaN_in_dataFrame(time_domain_data_frame)\n",
    "#             plot_graphs(np.array(time_domain_data_frame), 1)\n",
    "            data_with_offset.append(required_time_domain_data_frame)\n",
    "            print(filename, required_time_domain_data_frame.shape)"
   ]
  },
  {
   "cell_type": "code",
   "execution_count": 3,
   "metadata": {},
   "outputs": [
    {
     "name": "stdout",
     "output_type": "stream",
     "text": [
      "[  500 16384]\n"
     ]
    }
   ],
   "source": [
    "#removing offset voltage from the data frame\n",
    "\n",
    "data_without_offset = []\n",
    "for i, data in enumerate(data_with_offset):\n",
    "    required_data_without_offset = get_time_domain_data_without_offset(data)\n",
    "    data_without_offset.append(required_data_without_offset)\n",
    "    print(np.array(required_data_without_offset.shape))    \n",
    "#     plot_graphs(required_data_without_offset, 1)"
   ]
  },
  {
   "cell_type": "code",
   "execution_count": 5,
   "metadata": {},
   "outputs": [
    {
     "name": "stdout",
     "output_type": "stream",
     "text": [
      "(500, 16384)\n"
     ]
    }
   ],
   "source": [
    "# adding butterworth band pass filter to remove noise \n",
    "\n",
    "filtered_data = []\n",
    "for i, data in enumerate(data_without_offset):\n",
    "    data_after_filter = apply_filter(data)\n",
    "    filtered_data.append(data_after_filter)\n",
    "    print(data_after_filter.shape)\n",
    "#     plot_graphs(data_after_filter, 1)"
   ]
  },
  {
   "cell_type": "code",
   "execution_count": 6,
   "metadata": {},
   "outputs": [
    {
     "name": "stdout",
     "output_type": "stream",
     "text": [
      "(500, 2600)\n"
     ]
    }
   ],
   "source": [
    "# capturing echo signals \n",
    "\n",
    "echo_set = []\n",
    "for i, data in enumerate(filtered_data):\n",
    "    required_echos = get_echos(data)\n",
    "    echo_set = echo_set + required_echos\n",
    "    print(np.array(required_echos).shape)\n",
    "#     plot_graphs(required_echos, 1)"
   ]
  },
  {
   "cell_type": "code",
   "execution_count": 9,
   "metadata": {},
   "outputs": [
    {
     "name": "stdout",
     "output_type": "stream",
     "text": [
      "(2600,)\n",
      "(2600,)\n",
      "(27,)\n"
     ]
    }
   ],
   "source": [
    "# converting time domain data to frequency domain using FFT\n",
    "\n",
    "required_echo_data = pd.DataFrame(echo_set)\n",
    "fft_from_data_frame(required_echo_data)"
   ]
  },
  {
   "cell_type": "code",
   "execution_count": null,
   "metadata": {},
   "outputs": [],
   "source": []
  }
 ],
 "metadata": {
  "kernelspec": {
   "display_name": "Python 3",
   "language": "python",
   "name": "python3"
  },
  "language_info": {
   "codemirror_mode": {
    "name": "ipython",
    "version": 3
   },
   "file_extension": ".py",
   "mimetype": "text/x-python",
   "name": "python",
   "nbconvert_exporter": "python",
   "pygments_lexer": "ipython3",
   "version": "3.6.10"
  }
 },
 "nbformat": 4,
 "nbformat_minor": 4
}
