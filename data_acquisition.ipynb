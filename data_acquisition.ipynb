{
 "cells": [
  {
   "cell_type": "code",
   "execution_count": null,
   "metadata": {},
   "outputs": [],
   "source": [
    "%reload_ext autoreload\n",
    "%autoreload 2\n",
    "\n",
    "import pandas as pd\n",
    "import numpy as np\n",
    "from red_pitaya_connector import runner, pollInstanceSample\n",
    "from plot_graph import plot_graphs\n",
    "import time"
   ]
  },
  {
   "cell_type": "code",
   "execution_count": null,
   "metadata": {},
   "outputs": [],
   "source": [
    "rps = runner()\n",
    "data_set = []\n",
    "\n",
    "# 80-120\n",
    "distance='80'\n",
    "folder = 'rubberCurb'\n",
    "sub_folder = '2'\n",
    "\n",
    "print('./rawData/' + folder + '/' + sub_folder + '/' + distance + '.csv')\n",
    "start_time = time.time()\n",
    "print('Start time:', time.asctime(time.localtime(start_time)))\n",
    "for i in range(1,2,1): # Select number of data points\n",
    "    signal = pollInstanceSample(rps)\n",
    "    data_set.append(signal)\n",
    "    if i % 100 == 0:\n",
    "        print(i, time.asctime(time.localtime(time.time())))\n",
    "\n",
    "pd.DataFrame(data_set).to_csv('./rawData/' + folder + '/' + sub_folder + '/' + distance + '.csv')\n",
    "\n",
    "end_time = time.time() - start_time\n",
    "print('End time:', end_time/60)\n",
    "plot_graphs(data_set, 1)"
   ]
  },
  {
   "cell_type": "code",
   "execution_count": null,
   "metadata": {},
   "outputs": [],
   "source": []
  }
 ],
 "metadata": {
  "kernelspec": {
   "display_name": "Python 3",
   "language": "python",
   "name": "python3"
  },
  "language_info": {
   "codemirror_mode": {
    "name": "ipython",
    "version": 3
   },
   "file_extension": ".py",
   "mimetype": "text/x-python",
   "name": "python",
   "nbconvert_exporter": "python",
   "pygments_lexer": "ipython3",
   "version": "3.6.10"
  }
 },
 "nbformat": 4,
 "nbformat_minor": 4
}
