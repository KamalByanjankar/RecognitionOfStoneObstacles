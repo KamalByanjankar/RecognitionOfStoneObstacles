{
 "cells": [
  {
   "cell_type": "code",
   "execution_count": 1,
   "metadata": {},
   "outputs": [],
   "source": [
    "%reload_ext autoreload\n",
    "%autoreload 2\n",
    "\n",
    "import pandas as pd\n",
    "import numpy as np\n",
    "from red_pitaya_connector import runner, pollInstanceSample\n",
    "from plot_graph import plot_graphs, plot_abs_graphs, plot_scale_graphs\n",
    "import time\n",
    "from filter import apply_filter"
   ]
  },
  {
   "cell_type": "code",
   "execution_count": 3,
   "metadata": {
    "tags": []
   },
   "outputs": [
    {
     "name": "stdout",
     "output_type": "stream",
     "text": [
      "Connected to Device, Acquiring Data Now...\n",
      "./rawData/rubberCurb45degree/1/170.csv\n",
      "Start time: Wed May 18 14:30:14 2022\n",
      "50 Wed May 18 14:30:34 2022\n",
      "100 Wed May 18 14:30:54 2022\n",
      "150 Wed May 18 14:31:14 2022\n",
      "200 Wed May 18 14:31:34 2022\n",
      "250 Wed May 18 14:31:54 2022\n",
      "End time: 1.937284286816915\n"
     ]
    },
    {
     "data": {
      "image/png": "[encoded data removed]",
      "text/plain": [
       "<Figure size 1440x1440 with 1 Axes>"
      ]
     },
     "metadata": {
      "needs_background": "light"
     },
     "output_type": "display_data"
    }
   ],
   "source": [
    "rps = runner()\n",
    "data_set = []\n",
    "\n",
    "#60-200\n",
    "# no echo signals captured when distance is less than 60 cm \n",
    "\n",
    "distance='170'\n",
    "folder = 'rubberCurb45degree'\n",
    "sub_folder = '1'\n",
    "\n",
    "print('./rawData/' + folder + '/' + sub_folder + '/' + distance + '.csv')\n",
    "start_time = time.time()\n",
    "print('Start time:', time.asctime(time.localtime(start_time)))\n",
    "for i in range(1,251,1):\n",
    "    signal = pollInstanceSample(rps)\n",
    "    data_set.append(signal)\n",
    "    if i % 50 == 0:\n",
    "        print(i, time.asctime(time.localtime(time.time())))\n",
    "\n",
    "# pd.DataFrame(data_set).to_csv('./rawData/dataSet/10cm_70_170_rubberCurb/' + folder + '/' + sub_folder + '/' + distance + '.csv')\n",
    "\n",
    "end_time = time.time() - start_time\n",
    "print('End time:', end_time/60)\n",
    "plot_graphs(data_set, 1)"
   ]
  },
  {
   "cell_type": "code",
   "execution_count": null,
   "metadata": {},
   "outputs": [],
   "source": []
  },
  {
   "cell_type": "code",
   "execution_count": null,
   "metadata": {},
   "outputs": [],
   "source": []
  },
  {
   "cell_type": "code",
   "execution_count": null,
   "metadata": {},
   "outputs": [],
   "source": []
  },
  {
   "cell_type": "code",
   "execution_count": null,
   "metadata": {},
   "outputs": [],
   "source": []
  },
  {
   "cell_type": "code",
   "execution_count": null,
   "metadata": {},
   "outputs": [],
   "source": []
  },
  {
   "cell_type": "code",
   "execution_count": null,
   "metadata": {},
   "outputs": [],
   "source": []
  },
  {
   "cell_type": "code",
   "execution_count": null,
   "metadata": {},
   "outputs": [],
   "source": []
  },
  {
   "cell_type": "code",
   "execution_count": null,
   "metadata": {},
   "outputs": [],
   "source": []
  },
  {
   "cell_type": "code",
   "execution_count": null,
   "metadata": {},
   "outputs": [],
   "source": []
  },
  {
   "cell_type": "code",
   "execution_count": null,
   "metadata": {},
   "outputs": [],
   "source": []
  },
  {
   "cell_type": "code",
   "execution_count": null,
   "metadata": {},
   "outputs": [],
   "source": []
  },
  {
   "cell_type": "code",
   "execution_count": null,
   "metadata": {},
   "outputs": [],
   "source": []
  },
  {
   "cell_type": "code",
   "execution_count": null,
   "metadata": {},
   "outputs": [],
   "source": []
  }
 ],
 "metadata": {
  "kernelspec": {
   "display_name": "Python 3 (ipykernel)",
   "language": "python",
   "name": "python3"
  },
  "language_info": {
   "codemirror_mode": {
    "name": "ipython",
    "version": 3
   },
   "file_extension": ".py",
   "mimetype": "text/x-python",
   "name": "python",
   "nbconvert_exporter": "python",
   "pygments_lexer": "ipython3",
   "version": "3.9.7"
  }
 },
 "nbformat": 4,
 "nbformat_minor": 4
}
